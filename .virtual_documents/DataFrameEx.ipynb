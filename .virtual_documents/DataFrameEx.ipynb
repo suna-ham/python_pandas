import pandas as pd
pd.DataFrameE()



import pandas as pd
dict_data={'c0':[1,2,3],'c1':[4,5,6],'c2':[7,8,9],'c3':[10,11,12],'c4':[13,14,15]}
df=pd.DataFrame(dict_data, index=['A','B','C'])
df.columns=['초1','초2','초3','초4','초5']
print(df)
           


data = { 'name': ['Kim', 'Lee', 'Park'], 'age': [24, 27, 34], 'children': [2, 1, 3] } 

pd.DataFrame(data) 


data1_ex ={'food':['KFC','McDonald','Schoolfood'],'price':[1000,2000,3000],'rating':[4.5,3.9,4.2]}
data1_ex_frame = pd.DataFrame(data1_ex)
print(data1_ex_frame)

label1=data1_ex_frame.loc['rating']

print(label1)


# 방법2)pd.DataFrame(2차원배열, index=행인덱스배열, columns =열이름배열)
d_2=[[15, '남','덕영중'],[17,'여','수리중']]
df2=pd.DataFrame(d_2)
df2.index=['1반','2반']
df2.columns=['나이','성별','학교명']
df2=df2.rename(index={'1반':'준서','2반':'예은'})
df2=df2.rename(columns={'학교명':'학교'})
print(df2)
#반의 이름?
#한 학생의 자료 항목은?
print(df2.index)
print(df2.columns)

df=df2.drop('예은')
print(df2)
#rename



exam_data={'수학':[90,80,70],'영어':[98,89,95], '음악':[85,95,100],'체육':[100,90,90]}
df=pd.DataFrame(exam_data,index=['서준','우현','인아'])
print(df)
df2=df.copy()
print(df2)
print('\n')
df3=df2.drop('우현')
print(df3)



# DataFrame() 함수로 데이터프레임 변환. 변수 df에 저장
exam_data = {'수학' : [ 90, 80, 70], '영어' : [ 98, 89, 95],
             '음악' : [ 85, 95, 100], '체육' : [ 100, 90, 90]}

df = pd.DataFrame(exam_data, index=['서준', '우현', '인아'])

# 데이터프레임 출력
print(df)


# 행 인덱스의 범위를 지정하여 행 선택
label3 = df.loc['서준':'우현']
position3 = df.iloc[0:1]
print(label3)
print('\n')
print(position3)



# DataFrame() 함수로 데이터프레임 변환. 변수 df에 저장
exam_data = {'이름' : [ '서준', '우현', '인아'],
             '수학' : [ 90, 80, 70],
             '영어' : [ 98, 89, 95],
             '음악' : [ 85, 95, 100],
             '체육' : [ 100, 90, 90]}
df = pd.DataFrame(exam_data)
print(df)
print('\n')
print(type(df))


math1 = df['수학']
print(math1)
print('\n')
print(type(math1))


english = df.영어
print(english)
print('\n')
print(type(english))


music_gym = df[['음악', '체육']]
print(music_gym)
print('\n')
print(type(music_gym))


import pandas as pd

# DataFrame() 함수로 데이터프레임 변환. 변수 df에 저장
exam_data = {'이름' : [ '서준', '우현', '인아'],
             '수학' : [ 90, 80, 70],
             '영어' : [ 98, 89, 95],
             '음악' : [ 85, 95, 100],
             '체육' : [ 100, 90, 90]}
df = pd.DataFrame(exam_data)

# '이름' 열을 새로운 인덱스로 지정하고, df 객체에 변경사항 반영
df = df.set_index('이름')
print(df)


a = df.loc['서준', '음악']
print(a)
b = df.iloc[0, 2]
print(b)
c = df.loc['서준', ['음악', '체육']]
print(c)
d = df.iloc[0, [2, 3]]
print(d)
e = df.loc['서준', '음악':'체육']
print(e)
f = df.iloc[0, 2:]
print(f)


df['국어'] = 80
print(df)



df['컴퓨터'] =[100,80,75] 
print(df)


df.loc['길동']=[80,90,80,90,80,100]
print(df)


exam_data = {'이름' : ['서준', '우현', '인아'],
             '수학' : [ 90, 80, 70],
             '영어' : [ 98, 89, 95],
             '음악' : [ 85, 95, 100],
             '체육' : [ 100, 90, 90]}
df = pd.DataFrame(exam_data)
print(df)


df.loc[3]=0
print(df)


df.loc[4]=['동규',90,80,70,60]
print(df)


df.loc['우현',['수학','컴퓨터']]=100,90
df



