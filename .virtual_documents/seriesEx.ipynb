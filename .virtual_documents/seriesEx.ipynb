





import pandas as pd
dict_data = {'a':1, 'b':2, 'c':3}
sr =pd.Series(dict_data)
print(sr)


list_data = list(range(10,101,10))
print(list_data)


#리스트 자료를 시리즈로 만들기
pd.Series(list_data)


list_data=[100,200,300]
list_sr =pd.Series(list_data, index=['a','b','c'])
print(list_sr)


#튜플자료를 시리즈로 만들기
tuple_data=(300,400,)
tuple_sr = pd.Series(tuple_data, index=['a','b'])
print(tuple_sr)



list_sr = ('2019-01-02',3.14,'ABC',100,'True')
item_list =pd.Series(list_sr, index = range(5))
print(item_list)
sr_index=sr.index
sr_values=sr.values

print(sr_values)


dict_data={"딸기":5000,"바나나":2000}
fruit=pd.Series(dict_data)
data_list=fruit.index
print(data_list)


num_list = list(range(10,61,10))
index_list = ['a','b','c','d','e','f']
sr_num = pd.Series(num_list, index = index_list)
print(sr_num)
print(sr_num[2])


#### tup_data=('영인','2010-05-10','여', True)
sr = pd.Series(tup_data, index=['이름', '생년월일', '성별', '학생여부'])
print(sr['성별'])
print(sr[0])
print(sr[['성별','생년월일']]:

print(sr['이름':'성별'])
    


sr_empty = pd.Series()
sr_0 =pd.Series(0)
sr_0 =pd.Series(0,index=[100,200,300])
print(sr_0)
index_list_0100=list(range(0,101,1))
sr_0=pd.Series(0,index=index_list_0100)
print(sr_0)




ex1_list =range(100,501,100)
ex1_index =['a','b','c','d','e']
ex1_sr = pd.Series(ex1_list,index =ex1_index)
print(ex1_sr)


import pandas as pd
s = pd.Series([10, 20, 30, 40, 50], index=['a', 'b', 'c', 'd', 'e'])
print(s[1], s[3])


import pandas as pd
s = pd.Series([12, 24, 36, 48, 60], index=['A','B','C','D','E'])
print(s.index)


print(s)


scores = {
    'Python': 95,
    'Math': 88,
    'English': 76,
    'History': 82
}
ex5_list =scores.values()
ex5_index = scores.keys()
ex5 = pd.Series(ex5_list, index=ex5_index)
print(ex5)
print(ex5[0])


#문제3) 조건 필터링
#다음 시리즈에서 값이 30보다 큰 데이터만 출력하시오.

import pandas as pd
s = pd.Series([15, 25, 35, 45, 55], index=['A', 'B', 'C', 'D', 'E'])
print(s[s>30])


#문제4) 연산 적용
#아래 시리즈에 10을 더한 새로운 시리즈를 만들어 출력하시오.
s = pd.Series([5, 10, 15, 20, 25])
s_add=s+10
print(s_add)


#문제7) 시리즈 값의 평균 구하기
#다음 시리즈의 평균값을 계산하시오
s = pd.Series([80, 90, 75, 95, 88])
#평균
print(s.mean())
#합계 
print(s.sum())


#문제8) 시리즈 정렬
#아래 시리즈를 값 기준으로 오름차순 정렬하여 출력하시오.
s = pd.Series([42, 16, 58, 33, 95])
print(s.sort_values())


#문제9) 시리즈 NaN 처리
#다음 시리즈에서 NaN을 0으로 채운 새로운 시리즈를 만들어 출력하시오.
import pandas as pd
import numpy as np

s = pd.Series([10, np.nan, 30, np.nan, 50])
s_0 = s.fillna(0)
print(s_0)


# 문제10) 시리즈 불린 인덱싱
# 다음 시리즈에서 True인 인덱스만 출력하시오.
# 시리즈에 시리즈리스트를 대입
s = pd.Series([True, False, True, False, True], index=['A', 'B', 'C', 'D', 'E'])
print(s[s])


s_num =[10,3,20,100]
s_num_dp = pd.Series(s_num)
print(s_num_dp[s_num_dp>30])



